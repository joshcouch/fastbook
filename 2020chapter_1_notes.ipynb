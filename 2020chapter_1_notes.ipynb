{
 "cells": [
  {
   "cell_type": "markdown",
   "metadata": {},
   "source": [
    "# Notes from fast.ai lesson 1"
   ]
  },
  {
   "cell_type": "markdown",
   "metadata": {},
   "source": [
    "Official code notebooks available here: https://console.paperspace.com/josh-couch/notebook/r1tj5c4c2yl9i8s  \n",
    "A paper with an overview of what fast.ai is is available here: https://arxiv.org/abs/2002.04688  \n",
    "The forum for questions is here: https://forums.fast.ai/"
   ]
  },
  {
   "cell_type": "markdown",
   "metadata": {},
   "source": [
    "![alt text](images/applications_of_deep_learning.png \"The applications of de~ep learning\")"
   ]
  },
  {
   "cell_type": "markdown",
   "metadata": {},
   "source": [
    "Inference is using a trained model to make predictions based on input data"
   ]
  },
  {
   "cell_type": "markdown",
   "metadata": {},
   "source": [
    "##### Modern Deep Learning Terminology\n",
    "\n",
    "The functional form of a model is called its architecture  \n",
    "The weights are called parameters  \n",
    "The input data are independent variables that are used to make predictions  \n",
    "The measure of performance is called the loss  \n",
    "\n",
    "Models learn patterns that are present in the training data"
   ]
  },
  {
   "cell_type": "markdown",
   "metadata": {},
   "source": [
    "![alt text](images/basic%20model%20architecture.png \"A basic model architecture\")"
   ]
  },
  {
   "cell_type": "markdown",
   "metadata": {},
   "source": [
    "When using the fastai.vision.all module, to find where a function comes from, you can just type the function into a cell and run it (don't call the function by adding brackets)"
   ]
  },
  {
   "cell_type": "markdown",
   "metadata": {},
   "source": [
    "![alt text](images/eg%20locate%20function.png \"How to find which module a function belongs  to\")"
   ]
  },
  {
   "cell_type": "markdown",
   "metadata": {},
   "source": [
    "Jupyter Notebook Tips: There are also some tricks that you can code into a cell:\n",
    "\n",
    "- `?function-name`:: Shows the definition and docstring for that function\n",
    "- `??function-name`:: Shows the source code for that function\n",
    "- `doc(function-name)`:: Shows the definition, docstring **and links to the documentation** of the function\n",
    "(only works with fastai library imported)\n",
    "- Shift+Tab (press once):: See which parameters to pass to a function \n",
    "- Shift+Tab (press three times):: Get additional information on the method"
   ]
  },
  {
   "cell_type": "markdown",
   "metadata": {},
   "source": []
  }
 ],
 "metadata": {
  "kernelspec": {
   "display_name": "Python 3 (ipykernel)",
   "language": "python",
   "name": "python3"
  },
  "language_info": {
   "codemirror_mode": {
    "name": "ipython",
    "version": 3
   },
   "file_extension": ".py",
   "mimetype": "text/x-python",
   "name": "python",
   "nbconvert_exporter": "python",
   "pygments_lexer": "ipython3",
   "version": "3.9.7"
  },
  "vscode": {
   "interpreter": {
    "hash": "7f8db6a2d2432c89d112ec366f4d2e2376b3aa097399500d8f207a777f12d464"
   }
  }
 },
 "nbformat": 4,
 "nbformat_minor": 2
}
