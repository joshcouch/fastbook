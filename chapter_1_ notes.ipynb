{
 "cells": [
  {
   "cell_type": "markdown",
   "metadata": {},
   "source": [
    "# Chapter 1 Notes"
   ]
  },
  {
   "cell_type": "markdown",
   "metadata": {},
   "source": [
    "Kaggle Notebooks:  \n",
    "https://www.kaggle.com/code/jhoward/is-it-a-bird-creating-a-model-from-your-own-data  \n",
    "https://www.kaggle.com/code/joshcouchman/is-it-a-bird-creating-a-model-from-your-own-data/edit  \n",
    "https://www.kaggle.com/code/jhoward/jupyter-notebook-101  \n",
    "\n",
    "Book Chapter:  \n",
    "https://github.com/fastai/fastbook/blob/master/01_intro.ipynb"
   ]
  },
  {
   "cell_type": "markdown",
   "metadata": {},
   "source": [
    "##### Interesting notes:\n",
    "Recent breakthroughs in AI research include Dall-E 2 and Google's Pathways Language Model (PaLM)  \n",
    "For computer vision, neural networks encode features of increasing complexity into each layer of the network, starting with very basic geometries/patterns. The more layers the network has, the more complex features it can learn to identify  \n",
    "\n",
    "https://rise.readthedocs.io/en/stable/ is a Jupyter notebook extension that lets you present Jupyter notebooks as slide shows\n",
    "\n",
    "The fastest widely used computer vision model is resnet18  \n",
    "By default, fastai will download computer vision models that have been pre-trained. Then they need to be fine_tuned to the new data. This is not the case for tabular data models  "
   ]
  },
  {
   "cell_type": "markdown",
   "metadata": {},
   "source": [
    "##### Datablocks\n",
    "Input args:\n",
    "- `blocks` (data input type, data ouptut type), e.g. `blocks=(ImageBlock, CategoryBlock)`\n",
    "- `get_items` is the function to get the list of input data, e.g. `get_items=get_image_files`\n",
    "- `splitter` is the way you want to split your dataset into train and validation sets, e.g. `splitter=RandomSplitter(valid_pct=0.2, seed=42)`\n",
    "- `get_y` is the label of the dependent variable, i.e. the one you want to predict. e.g. `get_y=parent_label`\n",
    "- `items_tfms` are the transforms that need to be applied to the dataset. e.g. for images, `item_tfms=[Resize(192, method='squish')]`  \n",
    "\n",
    "`.show_batch()` will give some useful display of a batch of data from the Datablock\n",
    "\n",
    "More info:  \n",
    "https://docs.fast.ai/data.block.html  \n",
    "https://docs.fast.ai/tutorial.datablock.html\n"
   ]
  },
  {
   "cell_type": "markdown",
   "metadata": {},
   "source": [
    "49.36"
   ]
  },
  {
   "cell_type": "markdown",
   "metadata": {},
   "source": []
  }
 ],
 "metadata": {
  "kernelspec": {
   "display_name": "Python 3.9.7 ('pytorch')",
   "language": "python",
   "name": "python3"
  },
  "language_info": {
   "codemirror_mode": {
    "name": "ipython",
    "version": 3
   },
   "file_extension": ".py",
   "mimetype": "text/x-python",
   "name": "python",
   "nbconvert_exporter": "python",
   "pygments_lexer": "ipython3",
   "version": "3.9.7"
  },
  "orig_nbformat": 4,
  "vscode": {
   "interpreter": {
    "hash": "7f8db6a2d2432c89d112ec366f4d2e2376b3aa097399500d8f207a777f12d464"
   }
  }
 },
 "nbformat": 4,
 "nbformat_minor": 2
}
